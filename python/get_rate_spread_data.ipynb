{
 "cells": [
  {
   "cell_type": "code",
   "execution_count": 1,
   "metadata": {},
   "outputs": [],
   "source": [
    "import os\n",
    "from os import listdir\n",
    "from os.path import isfile, join\n",
    "import pandas as pd\n",
    "import psycopg2\n",
    "\n",
    "pd.set_option('display.max_rows', 500)\n",
    "pd.set_option('display.max_columns', 500)\n",
    "\n",
    "def connect():\n",
    "    #parameter format for local use\n",
    "    params = {\n",
    "    'dbname':'hmda',\n",
    "    'user':'roellk',\n",
    "    'password':'',\n",
    "    'host':'localhost',}\n",
    "    #connect_string = \"dbname=%s user=%s host=%s password =%s\" %(dbname, user, host, password) #set a string for connection to SQL\n",
    "    try:\n",
    "        conn = psycopg2.connect(**params)\n",
    "        print(\"i'm connected\")\n",
    "        #return conn.cursor(cursor_factory=psycopg2.extras.DictCursor) #return a dictionary cursor object\n",
    "        return conn.cursor()\n",
    "    except psycopg2.Error as e: #if database connection results in an error print the following\n",
    "        print(\"I am unable to connect to the database: \", e)\n"
   ]
  },
  {
   "cell_type": "code",
   "execution_count": 2,
   "metadata": {},
   "outputs": [],
   "source": [
    "sql = \"\"\"SELECT\n",
    "    year\n",
    "\t,(CASE WHEN rate_spread LIKE '%NA%' OR rate_spread LIKE '%na%' OR rate_spread LIKE '% %' \n",
    "    THEN 'NaN' ELSE rate_spread END) AS rate_spread\n",
    "\t,lien_status\n",
    "\t,loan_amount\n",
    "\t,loan_purpose\n",
    "    ,hoepa\n",
    "    ,CONCAT(state_code, county_code) AS county_fips\n",
    "\n",
    "FROM {table}\n",
    "WHERE action_type = '1' AND property_type = '2' AND occupancy = '1' AND loan_purpose IN ('1', '3')\n",
    "ORDER BY rate_spread DESC\"\"\"\n",
    "\n",
    "#list of public HMDA data tables in PG\n",
    "lar_tables = [\"lar_2004_ffiec\", \"lar_2005_ffiec\", \"lar_2006_ffiec\", \"lar_2007_ffiec\", \"lar_2008_ffiec\", \"lar_2009_ffiec\"\n",
    "         ,\"lar_2010_ffiec\", \"lar_2011_ffiec\", \"lar_2012_ffiec\", \"lar_2013_ffiec\", \"lar_2014_ffiec\", \"lar_2015_ffiec\",\n",
    "         \"lar_2016_ffiec\"]"
   ]
  },
  {
   "cell_type": "code",
   "execution_count": null,
   "metadata": {},
   "outputs": [
    {
     "name": "stdout",
     "output_type": "stream",
     "text": [
      "i'm connected\n",
      "        year rate_spread lien_status loan_amount loan_purpose hoepa  \\\n",
      "219239  2004       03.00           1       00024            1     2   \n",
      "219240  2004       03.00           1       00033            3     2   \n",
      "219241  2004       03.00           1       00032            3     2   \n",
      "219242  2004       03.00           1       00028            1     2   \n",
      "219243  2004       03.00           1       00057            1     2   \n",
      "\n",
      "       county_fips  \n",
      "219239       05119  \n",
      "219240       25013  \n",
      "219241       12081  \n",
      "219242       20107  \n",
      "219243       55079  \n",
      "        year rate_spread lien_status loan_amount loan_purpose hoepa  \\\n",
      "210341  2005       03.00           1       00150            1     2   \n",
      "210342  2005       03.00           1       00023            1     2   \n",
      "210343  2005       03.00           1       00024            3     2   \n",
      "210344  2005       03.00           1       00024            1     2   \n",
      "210345  2005       03.00           1       00018            1     2   \n",
      "\n",
      "       county_fips  \n",
      "210341       48375  \n",
      "210342       23005  \n",
      "210343       28105  \n",
      "210344       28155  \n",
      "210345       NANA   \n"
     ]
    }
   ],
   "source": [
    "#Connect to database and pull data\n",
    "cur = connect()\n",
    "first = True\n",
    "for table in lar_tables:\n",
    "    sql_rs = sql.format(table=table)\n",
    "    cur.execute(sql_rs)\n",
    "    colnames = [desc[0] for desc in cur.description]\n",
    "    results_df = pd.DataFrame(cur.fetchall(), columns=colnames)\n",
    "\n",
    "    if first:\n",
    "        rs_df = results_df.copy()\n",
    "        first = False\n",
    "    else:\n",
    "        rs_df = pd.concat([rs_df, results_df], axis=0)\n",
    "    print(rs_df.tail())\n",
    "        \n",
    "rs_df.head()\n",
    "rs_df.to_csv(\"../output/base_data.csv\", sep=\"|\", index=False)"
   ]
  },
  {
   "cell_type": "code",
   "execution_count": null,
   "metadata": {},
   "outputs": [],
   "source": []
  }
 ],
 "metadata": {
  "kernelspec": {
   "display_name": "Python 3",
   "language": "python",
   "name": "python3"
  },
  "language_info": {
   "codemirror_mode": {
    "name": "ipython",
    "version": 3
   },
   "file_extension": ".py",
   "mimetype": "text/x-python",
   "name": "python",
   "nbconvert_exporter": "python",
   "pygments_lexer": "ipython3",
   "version": "3.6.2"
  }
 },
 "nbformat": 4,
 "nbformat_minor": 2
}
