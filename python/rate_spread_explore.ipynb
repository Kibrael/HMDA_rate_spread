{
 "cells": [
  {
   "cell_type": "code",
   "execution_count": 4,
   "metadata": {},
   "outputs": [],
   "source": [
    "import os\n",
    "from os import listdir\n",
    "from os.path import isfile, join\n",
    "import pandas as pd\n",
    "import psycopg2\n",
    "\n",
    "import matplotlib\n",
    "import matplotlib.pyplot as plt\n",
    "import matplotlib.patches as mpatches\n",
    "import numpy as np\n",
    "\n",
    "pd.set_option('display.max_rows', 500)\n",
    "pd.set_option('display.max_columns', 500)\n",
    "\n",
    "#this line causes errors when running as a .py script\n",
    "get_ipython().magic(u'matplotlib inline')\n",
    "matplotlib.style.use('ggplot')\n",
    "pd.options.display.max_rows = 40\n",
    "#pd.options.display.max_colwidth = 200\n",
    "pd.options.display.show_dimensions = True\n",
    "\n",
    "def connect():\n",
    "    #parameter format for local use\n",
    "    params = {\n",
    "    'dbname':'hmda',\n",
    "    'user':'roellk',\n",
    "    'password':'',\n",
    "    'host':'localhost',}\n",
    "    #connect_string = \"dbname=%s user=%s host=%s password =%s\" %(dbname, user, host, password) #set a string for connection to SQL\n",
    "    try:\n",
    "        conn = psycopg2.connect(**params)\n",
    "        print(\"i'm connected\")\n",
    "        #return conn.cursor(cursor_factory=psycopg2.extras.DictCursor) #return a dictionary cursor object\n",
    "        return conn.cursor()\n",
    "    except psycopg2.Error as e: #if database connection results in an error print the following\n",
    "        print(\"I am unable to connect to the database: \", e)\n",
    "\n",
    "def line_graph(field_df, title=None, size=(20,10), ylim=None, x=np.arange(2004,2017)):\n",
    "    \"\"\"size is a tuple of width x height, ylim is a tuple of min x max\"\"\"\n",
    "    plt.figure(figsize=size)\n",
    "    color_list = [\"purple\", \"blue\", \"orange\", \"yellow\", \"green\", \"grey\", \"black\", \"white\", \"red\"]\n",
    "    field_list = list(field_df.columns.ravel())\n",
    "    patch_list = []\n",
    "#    w_patch = mpatches.Patch(color=\"green\", label=\"white\")\n",
    "    for field in field_list:\n",
    "        color_index = field_list.index(field)\n",
    "        plt.plot(x, field_df[field], color=color_list[color_index]) \n",
    "        field_patch = mpatches.Patch(color=color_list[color_index], label=field)\n",
    "        patch_list.append(field_patch)\n",
    "    if ylim:\n",
    "        plt.ylim=ylim\n",
    "    plt.legend(handles=patch_list)\n",
    "    plt.title(title)\n",
    "\n",
    "        \n",
    "def tabular_lines(y_dict, title=None, size=(20,10), ylim=None, x=np.arange(2004,2017)):\n",
    "    plt.figure(figsize=size)\n",
    "    color_list = [\"purple\", \"blue\", \"orange\", \"yellow\", \"green\", \"grey\", \"black\", \"white\", \"red\"]\n",
    "    if ylim:\n",
    "        plt.ylim = ylim\n",
    "    patch_list = []\n",
    "    y_list = list(y_dict.keys())\n",
    "    for field in y_list:\n",
    "        color_index = y_list.index(field)\n",
    "        plt.plot(x, y_dict[field], color=color_list[color_index])\n",
    "        field_patch = mpatches.Patch(color=color_list[color_index], label=field)\n",
    "        patch_list.append(field_patch)\n",
    "    plt.legend(handles=patch_list)\n",
    "    plt.title(title)"
   ]
  },
  {
   "cell_type": "code",
   "execution_count": 5,
   "metadata": {},
   "outputs": [],
   "source": [
    "#this code will examine the incidence of higher cost loans on manufactured housing in historic HMDA LAR data.\n",
    "#Higher cost loans for manufactured housing are defined as:\n",
    "#A first lien on a loan with >=50K principal with a rate spread of 6.5% or more\n",
    "#A first lien on a loan with <50K principal with a rate spread of 8.5% or more\n",
    "#A junior lien with a rate spread of 8.5% or more\n",
    "#Note: high cost loans are only covered by HOEPA if on a principle residence\n",
    "#Note: rate spread in HMDA has had different benchmarks\n",
    "# - rate spread prior to 2010 was calculated using treasury 10 year notes\n",
    "# - rate spread 2010 and later is calculated using APOR tables \n",
    "#Note: the change was made in 4q 2009, so 2009 uses mixed data in rate spread calculations and is often\n",
    "#excluded from analysis\n",
    "#Note: rate spread analysis is commonly done only on originations"
   ]
  },
  {
   "cell_type": "code",
   "execution_count": null,
   "metadata": {},
   "outputs": [],
   "source": [
    "#load rate spread data file for analysis\n",
    "rs_df = pd.read_csv(\"../output/base_data.csv\", sep=\"|\", dtype=\"object\")"
   ]
  },
  {
   "cell_type": "code",
   "execution_count": 8,
   "metadata": {},
   "outputs": [],
   "source": [
    "#change data types for mathematics\n",
    "rs_df.loan_amount = rs_df.loan_amount.apply(lambda x: int(x))\n",
    "rs_df.rate_spread = rs_df.rate_spread.apply(lambda x: float(x))\n",
    "#set high priced flag for rate spreads that meet conditions\n",
    "def is_high_priced(row):\n",
    "    if row['lien_status']=='1' and row['loan_amount'] >=50 and row['rate_spread'] >= 6.5:\n",
    "        return 1\n",
    "    elif row['lien_status']=='1' and row['loan_amount'] <50 and row['rate_spread']>=8.5:\n",
    "        return 1\n",
    "    elif row['lien_status']=='2' and row['rate_spread']>=8.5:\n",
    "        return 1\n",
    "    else:\n",
    "        return 0\n",
    "    \n",
    "rs_df['high_priced'] = rs_df.apply(is_high_priced, axis=1)\n"
   ]
  },
  {
   "cell_type": "code",
   "execution_count": 9,
   "metadata": {},
   "outputs": [
    {
     "name": "stdout",
     "output_type": "stream",
     "text": [
      "Getting historic data\n",
      "Getting historic data\n",
      "Getting historic data\n",
      "Getting historic data\n",
      "Getting historic data\n",
      "Getting historic data\n",
      "Getting historic data\n",
      "Getting historic data\n"
     ]
    }
   ],
   "source": [
    "#get amount summed by year for high priced and normal loans\n",
    "#multi index set for high priced flag and year\n",
    "def calc_rs_stats(rs_df):\n",
    "    print(\"Getting historic data\")\n",
    "    amount_df = rs_df[['year', 'high_priced', 'loan_amount']].groupby(['high_priced', 'year']).sum().copy()\n",
    "    total_high_rows = rs_df[rs_df.high_priced==1].groupby('year').count().copy()\n",
    "    total_rows = rs_df.groupby('year').count().copy()\n",
    "    analysis_df = total_high_rows / total_rows\n",
    "    analysis_df = analysis_df[['hoepa']]\n",
    "    analysis_df.columns = ['high_priced_pct']\n",
    "    analysis_df['count_high'] = total_high_rows['rate_spread']\n",
    "    analysis_df['count_total'] = rs_df[['year','rate_spread']].groupby('year').count()\n",
    "    analysis_df['count_normal'] = analysis_df['count_total'] - analysis_df['count_high']\n",
    "    analysis_df['percent_normal'] = 1 - analysis_df['high_priced_pct']\n",
    "    analysis_df['amount_high'] = amount_df['loan_amount'].loc[1]\n",
    "    analysis_df['amount_normal'] = amount_df['loan_amount'].loc[0]\n",
    "    analysis_df['amount_total'] = analysis_df['amount_high'] + analysis_df['amount_normal']\n",
    "    analysis_df['amount_high_pct'] = analysis_df.apply(lambda x: x.amount_high/x.amount_total, axis=1)\n",
    "    analysis_df['amount_normal_pct'] = analysis_df.apply(lambda x: x.amount_normal/x.amount_total, axis=1)\n",
    "    return analysis_df\n",
    "#home purchase loans <=50k\n",
    "purch_less_50 = calc_rs_stats(rs_df[(rs_df.loan_purpose=='1')&(rs_df.loan_amount<50)])\n",
    "purch_over_50 = calc_rs_stats(rs_df[(rs_df.loan_purpose=='1')&(rs_df.loan_amount>=50)])\n",
    "#no refinances present\n",
    "#refi_less_50 = calc_rs_stats(rs_df[(rs_df.loan_purpose=='3')&(rs_df.loan_amount<50)])\n",
    "refi_over_50 = calc_rs_stats(rs_df[(rs_df.loan_purpose=='3')&(rs_df.loan_amount>=50)])\n",
    "lien_1 = calc_rs_stats(rs_df[(rs_df.lien_status=='1')&(rs_df.loan_amount<50)])\n",
    "lien_2 = calc_rs_stats(rs_df[(rs_df.lien_status=='1')&(rs_df.loan_amount>=50)])\n",
    "all_less_50 = calc_rs_stats(rs_df[(rs_df.loan_amount<50)])\n",
    "all_over_50 = calc_rs_stats(rs_df[(rs_df.loan_amount>=50)])\n",
    "#total incidence trend as percent\n",
    "#total incidence raw counts\n",
    "#trend for over 50k and under 50k separately (percents and counts)\n",
    "#analysis by purpose?\n",
    "#analysis by lien status\n",
    "#baseline against trend in single family homes?\n",
    "#by geography\n",
    "all_high = calc_rs_stats(rs_df)\n"
   ]
  },
  {
   "cell_type": "code",
   "execution_count": 10,
   "metadata": {},
   "outputs": [
    {
     "ename": "NameError",
     "evalue": "name 'analysis_df' is not defined",
     "output_type": "error",
     "traceback": [
      "\u001b[0;31m---------------------------------------------------------------------------\u001b[0m",
      "\u001b[0;31mNameError\u001b[0m                                 Traceback (most recent call last)",
      "\u001b[0;32m<ipython-input-10-59f7d291019b>\u001b[0m in \u001b[0;36m<module>\u001b[0;34m()\u001b[0m\n\u001b[0;32m----> 1\u001b[0;31m \u001b[0manalysis_df\u001b[0m\u001b[0;34m[\u001b[0m\u001b[0;34m[\u001b[0m\u001b[0;34m'high_priced_pct'\u001b[0m\u001b[0;34m,\u001b[0m \u001b[0;34m'percent_normal'\u001b[0m\u001b[0;34m]\u001b[0m\u001b[0;34m]\u001b[0m\u001b[0;34m.\u001b[0m\u001b[0mplot\u001b[0m\u001b[0;34m(\u001b[0m\u001b[0mylim\u001b[0m\u001b[0;34m=\u001b[0m\u001b[0;34m(\u001b[0m\u001b[0;36m0\u001b[0m\u001b[0;34m,\u001b[0m\u001b[0;36m1\u001b[0m\u001b[0;34m)\u001b[0m\u001b[0;34m)\u001b[0m\u001b[0;34m\u001b[0m\u001b[0m\n\u001b[0m\u001b[1;32m      2\u001b[0m \u001b[0manalysis_df\u001b[0m\u001b[0;34m[\u001b[0m\u001b[0;34m[\u001b[0m\u001b[0;34m'high_priced_pct'\u001b[0m\u001b[0;34m,\u001b[0m \u001b[0;34m'percent_normal'\u001b[0m\u001b[0;34m]\u001b[0m\u001b[0;34m]\u001b[0m\u001b[0;34m.\u001b[0m\u001b[0mplot\u001b[0m\u001b[0;34m(\u001b[0m\u001b[0mylim\u001b[0m\u001b[0;34m=\u001b[0m\u001b[0;34m(\u001b[0m\u001b[0;36m0\u001b[0m\u001b[0;34m,\u001b[0m\u001b[0;36m1\u001b[0m\u001b[0;34m)\u001b[0m\u001b[0;34m)\u001b[0m\u001b[0;34m\u001b[0m\u001b[0m\n",
      "\u001b[0;31mNameError\u001b[0m: name 'analysis_df' is not defined"
     ]
    }
   ],
   "source": [
    "analysis_df[['high_priced_pct', 'percent_normal']].plot(ylim=(0,1))\n",
    "analysis_df[['high_priced_pct', 'percent_normal']].plot(ylim=(0,1))"
   ]
  },
  {
   "cell_type": "code",
   "execution_count": null,
   "metadata": {},
   "outputs": [],
   "source": [
    "percent_high[['count_high', 'count_total', 'count_normal']].plot()"
   ]
  },
  {
   "cell_type": "code",
   "execution_count": null,
   "metadata": {},
   "outputs": [],
   "source": [
    "percent_high[['amount_high_pct', 'amount_normal_pct']].plot(ylim=(0,1))"
   ]
  },
  {
   "cell_type": "code",
   "execution_count": null,
   "metadata": {},
   "outputs": [],
   "source": [
    "percent_high[['amount_high', 'amount_normal', 'amount_total']].plot()"
   ]
  },
  {
   "cell_type": "code",
   "execution_count": null,
   "metadata": {},
   "outputs": [],
   "source": [
    "\n",
    "amount_df = rs_df[(rs_df.loan_purpose=='3')&(rs_df.loan_amount>=50)][['year', 'high_priced', 'loan_amount']].groupby(['high_priced', 'year']).sum().copy()\n",
    "amount_df"
   ]
  },
  {
   "cell_type": "code",
   "execution_count": null,
   "metadata": {},
   "outputs": [],
   "source": [
    "rs_df[(rs_df.loan_purpose=='3')]"
   ]
  },
  {
   "cell_type": "code",
   "execution_count": null,
   "metadata": {},
   "outputs": [],
   "source": []
  }
 ],
 "metadata": {
  "kernelspec": {
   "display_name": "Python 3",
   "language": "python",
   "name": "python3"
  }
 },
 "nbformat": 4,
 "nbformat_minor": 2
}
