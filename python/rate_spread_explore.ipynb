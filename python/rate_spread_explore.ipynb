{
 "cells": [
  {
   "cell_type": "code",
   "execution_count": 1,
   "metadata": {},
   "outputs": [],
   "source": [
    "import os\n",
    "from os import listdir\n",
    "from os.path import isfile, join\n",
    "import pandas as pd\n",
    "import psycopg2\n",
    "\n",
    "import matplotlib\n",
    "import matplotlib.pyplot as plt\n",
    "import matplotlib.patches as mpatches\n",
    "import numpy as np\n",
    "\n",
    "pd.set_option('display.max_rows', 500)\n",
    "pd.set_option('display.max_columns', 500)\n",
    "\n",
    "#this line causes errors when running as a .py script\n",
    "get_ipython().magic(u'matplotlib inline')\n",
    "matplotlib.style.use('ggplot')\n",
    "pd.options.display.max_rows = 40\n",
    "#pd.options.display.max_colwidth = 200\n",
    "pd.options.display.show_dimensions = True\n",
    "\n",
    "def connect():\n",
    "    #parameter format for local use\n",
    "    params = {\n",
    "    'dbname':'hmda',\n",
    "    'user':'roellk',\n",
    "    'password':'',\n",
    "    'host':'localhost',}\n",
    "    #connect_string = \"dbname=%s user=%s host=%s password =%s\" %(dbname, user, host, password) #set a string for connection to SQL\n",
    "    try:\n",
    "        conn = psycopg2.connect(**params)\n",
    "        print(\"i'm connected\")\n",
    "        #return conn.cursor(cursor_factory=psycopg2.extras.DictCursor) #return a dictionary cursor object\n",
    "        return conn.cursor()\n",
    "    except psycopg2.Error as e: #if database connection results in an error print the following\n",
    "        print(\"I am unable to connect to the database: \", e)\n",
    "\n",
    "def line_graph(field_df, title=None, size=(20,10), ylim=None, x=np.arange(2004,2017)):\n",
    "    \"\"\"size is a tuple of width x height, ylim is a tuple of min x max\"\"\"\n",
    "    plt.figure(figsize=size)\n",
    "    color_list = [\"purple\", \"blue\", \"orange\", \"yellow\", \"green\", \"grey\", \"black\", \"white\", \"red\"]\n",
    "    field_list = list(field_df.columns.ravel())\n",
    "    patch_list = []\n",
    "#    w_patch = mpatches.Patch(color=\"green\", label=\"white\")\n",
    "    for field in field_list:\n",
    "        color_index = field_list.index(field)\n",
    "        plt.plot(x, field_df[field], color=color_list[color_index]) \n",
    "        field_patch = mpatches.Patch(color=color_list[color_index], label=field)\n",
    "        patch_list.append(field_patch)\n",
    "    if ylim:\n",
    "        plt.ylim=ylim\n",
    "    plt.legend(handles=patch_list)\n",
    "    plt.title(title)\n",
    "\n",
    "        \n",
    "def tabular_lines(y_dict, title=None, size=(20,10), ylim=None, x=np.arange(2004,2017)):\n",
    "    plt.figure(figsize=size)\n",
    "    color_list = [\"purple\", \"blue\", \"orange\", \"yellow\", \"green\", \"grey\", \"black\", \"white\", \"red\"]\n",
    "    if ylim:\n",
    "        plt.ylim = ylim\n",
    "    patch_list = []\n",
    "    y_list = list(y_dict.keys())\n",
    "    for field in y_list:\n",
    "        color_index = y_list.index(field)\n",
    "        plt.plot(x, y_dict[field], color=color_list[color_index])\n",
    "        field_patch = mpatches.Patch(color=color_list[color_index], label=field)\n",
    "        patch_list.append(field_patch)\n",
    "    plt.legend(handles=patch_list)\n",
    "    plt.title(title)"
   ]
  },
  {
   "cell_type": "code",
   "execution_count": 2,
   "metadata": {},
   "outputs": [],
   "source": [
    "#this code will examine the incidence of higher cost loans on manufactured housing in historic HMDA LAR data.\n",
    "#Higher cost loans for manufactured housing are defined as:\n",
    "#A first lien on a loan with >=50K principal with a rate spread of 6.5% or more\n",
    "#A first lien on a loan with <50K principal with a rate spread of 8.5% or more\n",
    "#A junior lien with a rate spread of 8.5% or more\n",
    "#Note: high cost loans are only covered by HOEPA if on a principle residence\n",
    "#Note: rate spread in HMDA has had different benchmarks\n",
    "# - rate spread prior to 2010 was calculated using treasury 10 year notes\n",
    "# - rate spread 2010 and later is calculated using APOR tables \n",
    "#Note: the change was made in 4q 2009, so 2009 uses mixed data in rate spread calculations and is often\n",
    "#excluded from analysis\n",
    "#Note: rate spread analysis is commonly done only on originations"
   ]
  },
  {
   "cell_type": "code",
   "execution_count": 56,
   "metadata": {},
   "outputs": [],
   "source": [
    "sql = \"\"\"SELECT\n",
    "    year\n",
    "\t,(CASE WHEN rate_spread LIKE '%NA%' OR rate_spread LIKE '%na%' OR rate_spread LIKE '% %' \n",
    "    THEN 'NaN' ELSE rate_spread END) AS rate_spread\n",
    "\t,lien_status\n",
    "\t,loan_amount\n",
    "\t,loan_purpose\n",
    "    ,hoepa\n",
    "    ,CONCAT(state_code, county_code) AS county_fips\n",
    "\n",
    "FROM {table}\n",
    "WHERE action_type = '1' AND property_type = '2' AND occupancy = '1' AND loan_purpose IN ('1', '3')\n",
    "ORDER BY rate_spread DESC\"\"\"\n",
    "\n",
    "#list of public HMDA data tables in PG\n",
    "lar_tables = [\"lar_2004_ffiec\", \"lar_2005_ffiec\", \"lar_2006_ffiec\", \"lar_2007_ffiec\", \"lar_2008_ffiec\", \"lar_2009_ffiec\"\n",
    "         ,\"lar_2010_ffiec\", \"lar_2011_ffiec\", \"lar_2012_ffiec\", \"lar_2013_ffiec\", \"lar_2014_ffiec\", \"lar_2015_ffiec\",\n",
    "         \"lar_2016_ffiec\"]"
   ]
  },
  {
   "cell_type": "code",
   "execution_count": 57,
   "metadata": {},
   "outputs": [
    {
     "name": "stdout",
     "output_type": "stream",
     "text": [
      "i'm connected\n",
      "        year rate_spread lien_status loan_amount loan_purpose hoepa  \\\n",
      "219239  2004       03.00           1       00024            1     2   \n",
      "219240  2004       03.00           1       00033            3     2   \n",
      "219241  2004       03.00           1       00032            3     2   \n",
      "219242  2004       03.00           1       00028            1     2   \n",
      "219243  2004       03.00           1       00057            1     2   \n",
      "\n",
      "       county_fips  \n",
      "219239       05119  \n",
      "219240       25013  \n",
      "219241       12081  \n",
      "219242       20107  \n",
      "219243       55079  \n",
      "\n",
      "[5 rows x 7 columns]\n",
      "        year rate_spread lien_status loan_amount loan_purpose hoepa  \\\n",
      "210341  2005       03.00           1       00150            1     2   \n",
      "210342  2005       03.00           1       00023            1     2   \n",
      "210343  2005       03.00           1       00024            3     2   \n",
      "210344  2005       03.00           1       00024            1     2   \n",
      "210345  2005       03.00           1       00018            1     2   \n",
      "\n",
      "       county_fips  \n",
      "210341       48375  \n",
      "210342       23005  \n",
      "210343       28105  \n",
      "210344       28155  \n",
      "210345       NANA   \n",
      "\n",
      "[5 rows x 7 columns]\n",
      "        year rate_spread lien_status loan_amount loan_purpose hoepa  \\\n",
      "209702  2006       03.00           1       00032            3     2   \n",
      "209703  2006       03.00           1       00298            3     2   \n",
      "209704  2006       03.00           1       00036            1     2   \n",
      "209705  2006       03.00           1       00098            3     2   \n",
      "209706  2006       03.00           1       00056            1     2   \n",
      "\n",
      "       county_fips  \n",
      "209702       54057  \n",
      "209703       41019  \n",
      "209704       22117  \n",
      "209705       35001  \n",
      "209706       48453  \n",
      "\n",
      "[5 rows x 7 columns]\n",
      "        year rate_spread lien_status loan_amount loan_purpose hoepa  \\\n",
      "199898  2007       03.00           1       00071            3     2   \n",
      "199899  2007       03.00           1       00060            3     2   \n",
      "199900  2007       03.00           1       00128            1     2   \n",
      "199901  2007       03.00           1       00089            3     2   \n",
      "199902  2007       03.00           1       00063            3     2   \n",
      "\n",
      "       county_fips  \n",
      "199898       27061  \n",
      "199899       12073  \n",
      "199900       26081  \n",
      "199901       12083  \n",
      "199902       13135  \n",
      "\n",
      "[5 rows x 7 columns]\n",
      "        year rate_spread lien_status loan_amount loan_purpose hoepa  \\\n",
      "162786  2008       03.00           1       00071            1     2   \n",
      "162787  2008       03.00           1       00155            1     2   \n",
      "162788  2008       03.00           1       00061            1     2   \n",
      "162789  2008       03.00           1       00062            3     2   \n",
      "162790  2008       03.00           1       00079            1     2   \n",
      "\n",
      "       county_fips  \n",
      "162786       48181  \n",
      "162787       51195  \n",
      "162788       17031  \n",
      "162789       28043  \n",
      "162790       42125  \n",
      "\n",
      "[5 rows x 7 columns]\n",
      "        year rate_spread lien_status loan_amount loan_purpose hoepa  \\\n",
      "122937  2009       01.50           1       00043            3     2   \n",
      "122938  2009       01.50           1       00123            3     2   \n",
      "122939  2009       01.50           1       00025            3     2   \n",
      "122940  2009       01.50           1       00078            1     2   \n",
      "122941  2009       01.50           1       00012            1     2   \n",
      "\n",
      "       county_fips  \n",
      "122937       21059  \n",
      "122938       13291  \n",
      "122939       27145  \n",
      "122940       45091  \n",
      "122941       33015  \n",
      "\n",
      "[5 rows x 7 columns]\n",
      "       year rate_spread lien_status loan_amount loan_purpose hoepa county_fips\n",
      "98192  2010       01.50           1       00084            3     2       48381\n",
      "98193  2010       01.50           1       00138            1     2       06071\n",
      "98194  2010       01.50           1       00082            1     2       39089\n",
      "98195  2010       01.50           1       00034            1     2       49011\n",
      "98196  2010       01.50           1       00067            1     2       12105\n",
      "\n",
      "[5 rows x 7 columns]\n",
      "       year rate_spread lien_status loan_amount loan_purpose hoepa county_fips\n",
      "89424  2011       01.50           1       00114            3     2       53039\n",
      "89425  2011       01.50           1       00218            3     2       06065\n",
      "89426  2011       01.50           1       00063            3     2       29037\n",
      "89427  2011       01.50           1       00068            1     2       39033\n",
      "89428  2011       01.50           1       00215            3     2       41027\n",
      "\n",
      "[5 rows x 7 columns]\n",
      "        year rate_spread lien_status loan_amount loan_purpose hoepa  \\\n",
      "101181  2012       01.50           1       00123            3     2   \n",
      "101182  2012       01.50           1       00100            3     2   \n",
      "101183  2012       01.50           1       00044            1     2   \n",
      "101184  2012       01.50           1       00060            1     2   \n",
      "101185  2012       01.50           1       00038            1     2   \n",
      "\n",
      "       county_fips  \n",
      "101181       01117  \n",
      "101182       51045  \n",
      "101183       51083  \n",
      "101184       18119  \n",
      "101185       12127  \n",
      "\n",
      "[5 rows x 7 columns]\n",
      "        year rate_spread lien_status loan_amount loan_purpose hoepa  \\\n",
      "110212  2013       01.50           1       00045            3     2   \n",
      "110213  2013       01.50           1       00032            1     2   \n",
      "110214  2013       01.50           1       00064            1     2   \n",
      "110215  2013       01.50           1       00079            1     2   \n",
      "110216  2013       01.50           1       00055            3     2   \n",
      "\n",
      "       county_fips  \n",
      "110212       47059  \n",
      "110213       26117  \n",
      "110214       12057  \n",
      "110215       04025  \n",
      "110216       45003  \n",
      "\n",
      "[5 rows x 7 columns]\n",
      "       year rate_spread lien_status loan_amount loan_purpose hoepa county_fips\n",
      "96742  2014       01.50           1       00120            3     2       54081\n",
      "96743  2014       01.50           1       00055            1     2       12119\n",
      "96744  2014       01.50           1       00124            1     2       06025\n",
      "96745  2014       01.50           1       00051            1     2       06029\n",
      "96746  2014       01.50           1       00152            3     2       08071\n",
      "\n",
      "[5 rows x 7 columns]\n",
      "        year rate_spread lien_status loan_amount loan_purpose hoepa  \\\n",
      "107783  2015       01.50           1       00142            1     2   \n",
      "107784  2015       01.50           1       00044            1     2   \n",
      "107785  2015       01.50           1       00096            1     2   \n",
      "107786  2015       01.50           1       00122            1     2   \n",
      "107787  2015       01.50           1       00096            1     2   \n",
      "\n",
      "       county_fips  \n",
      "107783       NANA   \n",
      "107784       12033  \n",
      "107785       01097  \n",
      "107786       NANA   \n",
      "107787       12017  \n",
      "\n",
      "[5 rows x 7 columns]\n",
      "        year rate_spread lien_status loan_amount loan_purpose hoepa  \\\n",
      "115593  2016       01.50           1       00085            1     2   \n",
      "115594  2016       01.50           1       00062            1     2   \n",
      "115595  2016       01.50           1       00038            1     2   \n",
      "115596  2016       01.50           1       00118            1     2   \n",
      "115597  2016       01.50           1       00048            1     2   \n",
      "\n",
      "       county_fips  \n",
      "115593       48161  \n",
      "115594       04013  \n",
      "115595       04013  \n",
      "115596       06065  \n",
      "115597       04013  \n",
      "\n",
      "[5 rows x 7 columns]\n"
     ]
    },
    {
     "data": {
      "text/html": [
       "<div>\n",
       "<style>\n",
       "    .dataframe thead tr:only-child th {\n",
       "        text-align: right;\n",
       "    }\n",
       "\n",
       "    .dataframe thead th {\n",
       "        text-align: left;\n",
       "    }\n",
       "\n",
       "    .dataframe tbody tr th {\n",
       "        vertical-align: top;\n",
       "    }\n",
       "</style>\n",
       "<table border=\"1\" class=\"dataframe\">\n",
       "  <thead>\n",
       "    <tr style=\"text-align: right;\">\n",
       "      <th></th>\n",
       "      <th>year</th>\n",
       "      <th>rate_spread</th>\n",
       "      <th>lien_status</th>\n",
       "      <th>loan_amount</th>\n",
       "      <th>loan_purpose</th>\n",
       "      <th>hoepa</th>\n",
       "      <th>county_fips</th>\n",
       "    </tr>\n",
       "  </thead>\n",
       "  <tbody>\n",
       "    <tr>\n",
       "      <th>0</th>\n",
       "      <td>2004</td>\n",
       "      <td>NaN</td>\n",
       "      <td>1</td>\n",
       "      <td>00005</td>\n",
       "      <td>1</td>\n",
       "      <td>2</td>\n",
       "      <td>01003</td>\n",
       "    </tr>\n",
       "    <tr>\n",
       "      <th>1</th>\n",
       "      <td>2004</td>\n",
       "      <td>NaN</td>\n",
       "      <td>1</td>\n",
       "      <td>00072</td>\n",
       "      <td>1</td>\n",
       "      <td>2</td>\n",
       "      <td>NANA</td>\n",
       "    </tr>\n",
       "    <tr>\n",
       "      <th>2</th>\n",
       "      <td>2004</td>\n",
       "      <td>NaN</td>\n",
       "      <td>1</td>\n",
       "      <td>00050</td>\n",
       "      <td>1</td>\n",
       "      <td>2</td>\n",
       "      <td>39029</td>\n",
       "    </tr>\n",
       "    <tr>\n",
       "      <th>3</th>\n",
       "      <td>2004</td>\n",
       "      <td>NaN</td>\n",
       "      <td>1</td>\n",
       "      <td>00048</td>\n",
       "      <td>1</td>\n",
       "      <td>2</td>\n",
       "      <td>29209</td>\n",
       "    </tr>\n",
       "    <tr>\n",
       "      <th>4</th>\n",
       "      <td>2004</td>\n",
       "      <td>NaN</td>\n",
       "      <td>1</td>\n",
       "      <td>00009</td>\n",
       "      <td>3</td>\n",
       "      <td>2</td>\n",
       "      <td>39029</td>\n",
       "    </tr>\n",
       "  </tbody>\n",
       "</table>\n",
       "<p>5 rows × 7 columns</p>\n",
       "</div>"
      ],
      "text/plain": [
       "   year rate_spread lien_status loan_amount loan_purpose hoepa county_fips\n",
       "0  2004         NaN           1       00005            1     2       01003\n",
       "1  2004         NaN           1       00072            1     2       NANA \n",
       "2  2004         NaN           1       00050            1     2       39029\n",
       "3  2004         NaN           1       00048            1     2       29209\n",
       "4  2004         NaN           1       00009            3     2       39029\n",
       "\n",
       "[5 rows x 7 columns]"
      ]
     },
     "execution_count": 57,
     "metadata": {},
     "output_type": "execute_result"
    }
   ],
   "source": [
    "#Connect to database and pull data\n",
    "cur = connect()\n",
    "first = True\n",
    "for table in lar_tables:\n",
    "    sql_rs = sql.format(table=table)\n",
    "    cur.execute(sql_rs)\n",
    "    colnames = [desc[0] for desc in cur.description]\n",
    "    results_df = pd.DataFrame(cur.fetchall(), columns=colnames)\n",
    "\n",
    "    if first:\n",
    "        rs_df = results_df.copy()\n",
    "        first = False\n",
    "    else:\n",
    "        rs_df = pd.concat([rs_df, results_df], axis=0)\n",
    "    print(rs_df.tail())\n",
    "        \n",
    "rs_df.head()\n"
   ]
  },
  {
   "cell_type": "code",
   "execution_count": 26,
   "metadata": {},
   "outputs": [],
   "source": [
    "#change data types for mathematics\n",
    "rs_df.loan_amount = rs_df.loan_amount.apply(lambda x: int(x))\n",
    "rs_df.rate_spread = rs_df.rate_spread.apply(lambda x: float(x))\n",
    "#set high priced flag for rate spreads that meet conditions\n",
    "def is_high_priced(row):\n",
    "    if row['lien_status']=='1' and row['loan_amount'] >=50 and row['rate_spread'] >= 6.5:\n",
    "        return 1\n",
    "    elif row['lien_status']=='1' and row['loan_amount'] <50 and row['rate_spread']>=8.5:\n",
    "        return 1\n",
    "    elif row['lien_status']=='2' and row['rate_spread']>=8.5:\n",
    "        return 1\n",
    "    else:\n",
    "        return 0\n",
    "    \n",
    "rs_df['high_priced'] = rs_df.apply(is_high_priced, axis=1)\n"
   ]
  },
  {
   "cell_type": "code",
   "execution_count": 55,
   "metadata": {},
   "outputs": [
    {
     "ename": "KeyError",
     "evalue": "'the label [1] is not in the [index]'",
     "output_type": "error",
     "traceback": [
      "\u001b[0;31m---------------------------------------------------------------------------\u001b[0m",
      "\u001b[0;31mKeyError\u001b[0m                                  Traceback (most recent call last)",
      "\u001b[0;32m~/homebrew/lib/python3.6/site-packages/pandas/core/indexing.py\u001b[0m in \u001b[0;36m_has_valid_type\u001b[0;34m(self, key, axis)\u001b[0m\n\u001b[1;32m   1433\u001b[0m                 \u001b[0;32mif\u001b[0m \u001b[0;32mnot\u001b[0m \u001b[0max\u001b[0m\u001b[0;34m.\u001b[0m\u001b[0mcontains\u001b[0m\u001b[0;34m(\u001b[0m\u001b[0mkey\u001b[0m\u001b[0;34m)\u001b[0m\u001b[0;34m:\u001b[0m\u001b[0;34m\u001b[0m\u001b[0m\n\u001b[0;32m-> 1434\u001b[0;31m                     \u001b[0merror\u001b[0m\u001b[0;34m(\u001b[0m\u001b[0;34m)\u001b[0m\u001b[0;34m\u001b[0m\u001b[0m\n\u001b[0m\u001b[1;32m   1435\u001b[0m             \u001b[0;32mexcept\u001b[0m \u001b[0mTypeError\u001b[0m \u001b[0;32mas\u001b[0m \u001b[0me\u001b[0m\u001b[0;34m:\u001b[0m\u001b[0;34m\u001b[0m\u001b[0m\n",
      "\u001b[0;32m~/homebrew/lib/python3.6/site-packages/pandas/core/indexing.py\u001b[0m in \u001b[0;36merror\u001b[0;34m()\u001b[0m\n\u001b[1;32m   1428\u001b[0m                 raise KeyError(\"the label [%s] is not in the [%s]\" %\n\u001b[0;32m-> 1429\u001b[0;31m                                (key, self.obj._get_axis_name(axis)))\n\u001b[0m\u001b[1;32m   1430\u001b[0m \u001b[0;34m\u001b[0m\u001b[0m\n",
      "\u001b[0;31mKeyError\u001b[0m: 'the label [1] is not in the [index]'",
      "\nDuring handling of the above exception, another exception occurred:\n",
      "\u001b[0;31mKeyError\u001b[0m                                  Traceback (most recent call last)",
      "\u001b[0;32m<ipython-input-55-ed97d7dd0350>\u001b[0m in \u001b[0;36m<module>\u001b[0;34m()\u001b[0m\n\u001b[1;32m     23\u001b[0m \u001b[0;31m#no refinances present\u001b[0m\u001b[0;34m\u001b[0m\u001b[0;34m\u001b[0m\u001b[0m\n\u001b[1;32m     24\u001b[0m \u001b[0;31m#refi_less_50 = calc_rs_stats(rs_df[(rs_df.loan_purpose=='3')&(rs_df.loan_amount<50)])\u001b[0m\u001b[0;34m\u001b[0m\u001b[0;34m\u001b[0m\u001b[0m\n\u001b[0;32m---> 25\u001b[0;31m \u001b[0mrefi_over_50\u001b[0m \u001b[0;34m=\u001b[0m \u001b[0mcalc_rs_stats\u001b[0m\u001b[0;34m(\u001b[0m\u001b[0mrs_df\u001b[0m\u001b[0;34m[\u001b[0m\u001b[0;34m(\u001b[0m\u001b[0mrs_df\u001b[0m\u001b[0;34m.\u001b[0m\u001b[0mloan_purpose\u001b[0m\u001b[0;34m==\u001b[0m\u001b[0;34m'3'\u001b[0m\u001b[0;34m)\u001b[0m\u001b[0;34m&\u001b[0m\u001b[0;34m(\u001b[0m\u001b[0mrs_df\u001b[0m\u001b[0;34m.\u001b[0m\u001b[0mloan_amount\u001b[0m\u001b[0;34m>=\u001b[0m\u001b[0;36m50\u001b[0m\u001b[0;34m)\u001b[0m\u001b[0;34m]\u001b[0m\u001b[0;34m)\u001b[0m\u001b[0;34m\u001b[0m\u001b[0m\n\u001b[0m\u001b[1;32m     26\u001b[0m \u001b[0mlien_1\u001b[0m \u001b[0;34m=\u001b[0m \u001b[0mcalc_rs_stats\u001b[0m\u001b[0;34m(\u001b[0m\u001b[0mrs_df\u001b[0m\u001b[0;34m[\u001b[0m\u001b[0;34m(\u001b[0m\u001b[0mrs_df\u001b[0m\u001b[0;34m.\u001b[0m\u001b[0mlien_status\u001b[0m\u001b[0;34m==\u001b[0m\u001b[0;34m'1'\u001b[0m\u001b[0;34m)\u001b[0m\u001b[0;34m&\u001b[0m\u001b[0;34m(\u001b[0m\u001b[0mrs_df\u001b[0m\u001b[0;34m.\u001b[0m\u001b[0mloan_amount\u001b[0m\u001b[0;34m<\u001b[0m\u001b[0;36m50\u001b[0m\u001b[0;34m)\u001b[0m\u001b[0;34m]\u001b[0m\u001b[0;34m)\u001b[0m\u001b[0;34m\u001b[0m\u001b[0m\n\u001b[1;32m     27\u001b[0m \u001b[0mlien_2\u001b[0m \u001b[0;34m=\u001b[0m \u001b[0mcalc_rs_stats\u001b[0m\u001b[0;34m(\u001b[0m\u001b[0mrs_df\u001b[0m\u001b[0;34m[\u001b[0m\u001b[0;34m(\u001b[0m\u001b[0mrs_df\u001b[0m\u001b[0;34m.\u001b[0m\u001b[0mlien_status\u001b[0m\u001b[0;34m==\u001b[0m\u001b[0;34m'1'\u001b[0m\u001b[0;34m)\u001b[0m\u001b[0;34m&\u001b[0m\u001b[0;34m(\u001b[0m\u001b[0mrs_df\u001b[0m\u001b[0;34m.\u001b[0m\u001b[0mloan_amount\u001b[0m\u001b[0;34m>=\u001b[0m\u001b[0;36m50\u001b[0m\u001b[0;34m)\u001b[0m\u001b[0;34m]\u001b[0m\u001b[0;34m)\u001b[0m\u001b[0;34m\u001b[0m\u001b[0m\n",
      "\u001b[0;32m<ipython-input-55-ed97d7dd0350>\u001b[0m in \u001b[0;36mcalc_rs_stats\u001b[0;34m(rs_df)\u001b[0m\n\u001b[1;32m     12\u001b[0m     \u001b[0manalysis_df\u001b[0m\u001b[0;34m[\u001b[0m\u001b[0;34m'count_normal'\u001b[0m\u001b[0;34m]\u001b[0m \u001b[0;34m=\u001b[0m \u001b[0manalysis_df\u001b[0m\u001b[0;34m[\u001b[0m\u001b[0;34m'count_total'\u001b[0m\u001b[0;34m]\u001b[0m \u001b[0;34m-\u001b[0m \u001b[0manalysis_df\u001b[0m\u001b[0;34m[\u001b[0m\u001b[0;34m'count_high'\u001b[0m\u001b[0;34m]\u001b[0m\u001b[0;34m\u001b[0m\u001b[0m\n\u001b[1;32m     13\u001b[0m     \u001b[0manalysis_df\u001b[0m\u001b[0;34m[\u001b[0m\u001b[0;34m'percent_normal'\u001b[0m\u001b[0;34m]\u001b[0m \u001b[0;34m=\u001b[0m \u001b[0;36m1\u001b[0m \u001b[0;34m-\u001b[0m \u001b[0manalysis_df\u001b[0m\u001b[0;34m[\u001b[0m\u001b[0;34m'high_priced_pct'\u001b[0m\u001b[0;34m]\u001b[0m\u001b[0;34m\u001b[0m\u001b[0m\n\u001b[0;32m---> 14\u001b[0;31m     \u001b[0manalysis_df\u001b[0m\u001b[0;34m[\u001b[0m\u001b[0;34m'amount_high'\u001b[0m\u001b[0;34m]\u001b[0m \u001b[0;34m=\u001b[0m \u001b[0mamount_df\u001b[0m\u001b[0;34m[\u001b[0m\u001b[0;34m'loan_amount'\u001b[0m\u001b[0;34m]\u001b[0m\u001b[0;34m.\u001b[0m\u001b[0mloc\u001b[0m\u001b[0;34m[\u001b[0m\u001b[0;36m1\u001b[0m\u001b[0;34m]\u001b[0m\u001b[0;34m\u001b[0m\u001b[0m\n\u001b[0m\u001b[1;32m     15\u001b[0m     \u001b[0manalysis_df\u001b[0m\u001b[0;34m[\u001b[0m\u001b[0;34m'amount_normal'\u001b[0m\u001b[0;34m]\u001b[0m \u001b[0;34m=\u001b[0m \u001b[0mamount_df\u001b[0m\u001b[0;34m[\u001b[0m\u001b[0;34m'loan_amount'\u001b[0m\u001b[0;34m]\u001b[0m\u001b[0;34m.\u001b[0m\u001b[0mloc\u001b[0m\u001b[0;34m[\u001b[0m\u001b[0;36m0\u001b[0m\u001b[0;34m]\u001b[0m\u001b[0;34m\u001b[0m\u001b[0m\n\u001b[1;32m     16\u001b[0m     \u001b[0manalysis_df\u001b[0m\u001b[0;34m[\u001b[0m\u001b[0;34m'amount_total'\u001b[0m\u001b[0;34m]\u001b[0m \u001b[0;34m=\u001b[0m \u001b[0manalysis_df\u001b[0m\u001b[0;34m[\u001b[0m\u001b[0;34m'amount_high'\u001b[0m\u001b[0;34m]\u001b[0m \u001b[0;34m+\u001b[0m \u001b[0manalysis_df\u001b[0m\u001b[0;34m[\u001b[0m\u001b[0;34m'amount_normal'\u001b[0m\u001b[0;34m]\u001b[0m\u001b[0;34m\u001b[0m\u001b[0m\n",
      "\u001b[0;32m~/homebrew/lib/python3.6/site-packages/pandas/core/indexing.py\u001b[0m in \u001b[0;36m__getitem__\u001b[0;34m(self, key)\u001b[0m\n\u001b[1;32m   1326\u001b[0m         \u001b[0;32melse\u001b[0m\u001b[0;34m:\u001b[0m\u001b[0;34m\u001b[0m\u001b[0m\n\u001b[1;32m   1327\u001b[0m             \u001b[0mkey\u001b[0m \u001b[0;34m=\u001b[0m \u001b[0mcom\u001b[0m\u001b[0;34m.\u001b[0m\u001b[0m_apply_if_callable\u001b[0m\u001b[0;34m(\u001b[0m\u001b[0mkey\u001b[0m\u001b[0;34m,\u001b[0m \u001b[0mself\u001b[0m\u001b[0;34m.\u001b[0m\u001b[0mobj\u001b[0m\u001b[0;34m)\u001b[0m\u001b[0;34m\u001b[0m\u001b[0m\n\u001b[0;32m-> 1328\u001b[0;31m             \u001b[0;32mreturn\u001b[0m \u001b[0mself\u001b[0m\u001b[0;34m.\u001b[0m\u001b[0m_getitem_axis\u001b[0m\u001b[0;34m(\u001b[0m\u001b[0mkey\u001b[0m\u001b[0;34m,\u001b[0m \u001b[0maxis\u001b[0m\u001b[0;34m=\u001b[0m\u001b[0;36m0\u001b[0m\u001b[0;34m)\u001b[0m\u001b[0;34m\u001b[0m\u001b[0m\n\u001b[0m\u001b[1;32m   1329\u001b[0m \u001b[0;34m\u001b[0m\u001b[0m\n\u001b[1;32m   1330\u001b[0m     \u001b[0;32mdef\u001b[0m \u001b[0m_is_scalar_access\u001b[0m\u001b[0;34m(\u001b[0m\u001b[0mself\u001b[0m\u001b[0;34m,\u001b[0m \u001b[0mkey\u001b[0m\u001b[0;34m)\u001b[0m\u001b[0;34m:\u001b[0m\u001b[0;34m\u001b[0m\u001b[0m\n",
      "\u001b[0;32m~/homebrew/lib/python3.6/site-packages/pandas/core/indexing.py\u001b[0m in \u001b[0;36m_getitem_axis\u001b[0;34m(self, key, axis)\u001b[0m\n\u001b[1;32m   1549\u001b[0m \u001b[0;34m\u001b[0m\u001b[0m\n\u001b[1;32m   1550\u001b[0m         \u001b[0;31m# fall thru to straight lookup\u001b[0m\u001b[0;34m\u001b[0m\u001b[0;34m\u001b[0m\u001b[0m\n\u001b[0;32m-> 1551\u001b[0;31m         \u001b[0mself\u001b[0m\u001b[0;34m.\u001b[0m\u001b[0m_has_valid_type\u001b[0m\u001b[0;34m(\u001b[0m\u001b[0mkey\u001b[0m\u001b[0;34m,\u001b[0m \u001b[0maxis\u001b[0m\u001b[0;34m)\u001b[0m\u001b[0;34m\u001b[0m\u001b[0m\n\u001b[0m\u001b[1;32m   1552\u001b[0m         \u001b[0;32mreturn\u001b[0m \u001b[0mself\u001b[0m\u001b[0;34m.\u001b[0m\u001b[0m_get_label\u001b[0m\u001b[0;34m(\u001b[0m\u001b[0mkey\u001b[0m\u001b[0;34m,\u001b[0m \u001b[0maxis\u001b[0m\u001b[0;34m=\u001b[0m\u001b[0maxis\u001b[0m\u001b[0;34m)\u001b[0m\u001b[0;34m\u001b[0m\u001b[0m\n\u001b[1;32m   1553\u001b[0m \u001b[0;34m\u001b[0m\u001b[0m\n",
      "\u001b[0;32m~/homebrew/lib/python3.6/site-packages/pandas/core/indexing.py\u001b[0m in \u001b[0;36m_has_valid_type\u001b[0;34m(self, key, axis)\u001b[0m\n\u001b[1;32m   1440\u001b[0m                 \u001b[0;32mraise\u001b[0m\u001b[0;34m\u001b[0m\u001b[0m\n\u001b[1;32m   1441\u001b[0m             \u001b[0;32mexcept\u001b[0m\u001b[0;34m:\u001b[0m\u001b[0;34m\u001b[0m\u001b[0m\n\u001b[0;32m-> 1442\u001b[0;31m                 \u001b[0merror\u001b[0m\u001b[0;34m(\u001b[0m\u001b[0;34m)\u001b[0m\u001b[0;34m\u001b[0m\u001b[0m\n\u001b[0m\u001b[1;32m   1443\u001b[0m \u001b[0;34m\u001b[0m\u001b[0m\n\u001b[1;32m   1444\u001b[0m         \u001b[0;32mreturn\u001b[0m \u001b[0;32mTrue\u001b[0m\u001b[0;34m\u001b[0m\u001b[0m\n",
      "\u001b[0;32m~/homebrew/lib/python3.6/site-packages/pandas/core/indexing.py\u001b[0m in \u001b[0;36merror\u001b[0;34m()\u001b[0m\n\u001b[1;32m   1427\u001b[0m                                     \"key\")\n\u001b[1;32m   1428\u001b[0m                 raise KeyError(\"the label [%s] is not in the [%s]\" %\n\u001b[0;32m-> 1429\u001b[0;31m                                (key, self.obj._get_axis_name(axis)))\n\u001b[0m\u001b[1;32m   1430\u001b[0m \u001b[0;34m\u001b[0m\u001b[0m\n\u001b[1;32m   1431\u001b[0m             \u001b[0;32mtry\u001b[0m\u001b[0;34m:\u001b[0m\u001b[0;34m\u001b[0m\u001b[0m\n",
      "\u001b[0;31mKeyError\u001b[0m: 'the label [1] is not in the [index]'"
     ]
    }
   ],
   "source": [
    "#get amount summed by year for high priced and normal loans\n",
    "#multi index set for high priced flag and year\n",
    "def calc_rs_stats(rs_df):\n",
    "    amount_df = rs_df[['year', 'high_priced', 'loan_amount']].groupby(['high_priced', 'year']).sum().copy()\n",
    "    total_high_rows = rs_df[rs_df.high_priced==1].groupby('year').count().copy()\n",
    "    total_rows = rs_df.groupby('year').count().copy()\n",
    "    analysis_df = total_high_rows / total_rows\n",
    "    analysis_df = analysis_df[['hoepa']]\n",
    "    analysis_df.columns = ['high_priced_pct']\n",
    "    analysis_df['count_high'] = total_high_rows['rate_spread']\n",
    "    analysis_df['count_total'] = rs_df[['year','rate_spread']].groupby('year').count()\n",
    "    analysis_df['count_normal'] = analysis_df['count_total'] - analysis_df['count_high']\n",
    "    analysis_df['percent_normal'] = 1 - analysis_df['high_priced_pct']\n",
    "    analysis_df['amount_high'] = amount_df['loan_amount'].loc[1]\n",
    "    analysis_df['amount_normal'] = amount_df['loan_amount'].loc[0]\n",
    "    analysis_df['amount_total'] = analysis_df['amount_high'] + analysis_df['amount_normal']\n",
    "    analysis_df['amount_high_pct'] = analysis_df.apply(lambda x: x.amount_high/x.amount_total, axis=1)\n",
    "    analysis_df['amount_normal_pct'] = analysis_df.apply(lambda x: x.amount_normal/x.amount_total, axis=1)\n",
    "    return analysis_df\n",
    "#home purchase loans <=50k\n",
    "purch_less_50 = calc_rs_stats(rs_df[(rs_df.loan_purpose=='1')&(rs_df.loan_amount<50)])\n",
    "purch_over_50 = calc_rs_stats(rs_df[(rs_df.loan_purpose=='1')&(rs_df.loan_amount>=50)])\n",
    "#no refinances present\n",
    "#refi_less_50 = calc_rs_stats(rs_df[(rs_df.loan_purpose=='3')&(rs_df.loan_amount<50)])\n",
    "refi_over_50 = calc_rs_stats(rs_df[(rs_df.loan_purpose=='3')&(rs_df.loan_amount>=50)])\n",
    "lien_1 = calc_rs_stats(rs_df[(rs_df.lien_status=='1')&(rs_df.loan_amount<50)])\n",
    "lien_2 = calc_rs_stats(rs_df[(rs_df.lien_status=='1')&(rs_df.loan_amount>=50)])\n",
    "all_less_50 = calc_rs_stats(rs_df[(rs_df.loan_amount<50)])\n",
    "all_over_50 = calc_rs_stats(rs_df[(rs_df.loan_amount>=50)])\n",
    "#total incidence trend as percent\n",
    "#total incidence raw counts\n",
    "#trend for over 50k and under 50k separately (percents and counts)\n",
    "#analysis by purpose?\n",
    "#analysis by lien status\n",
    "#baseline against trend in single family homes?\n",
    "#by geography\n",
    "all_high = calc_rs_stats(rs_df)\n"
   ]
  },
  {
   "cell_type": "code",
   "execution_count": 44,
   "metadata": {},
   "outputs": [
    {
     "data": {
      "text/plain": [
       "<matplotlib.axes._subplots.AxesSubplot at 0x191f57e10>"
      ]
     },
     "execution_count": 44,
     "metadata": {},
     "output_type": "execute_result"
    },
    {
     "data": {
      "image/png": "[encoded data removed]",
      "text/plain": [
       "<matplotlib.figure.Figure at 0x1922f06a0>"
      ]
     },
     "metadata": {},
     "output_type": "display_data"
    }
   ],
   "source": [
    "analysis_df[['high_priced_pct', 'percent_normal']].plot(ylim=(0,1))"
   ]
  },
  {
   "cell_type": "code",
   "execution_count": 29,
   "metadata": {},
   "outputs": [
    {
     "data": {
      "text/plain": [
       "<matplotlib.axes._subplots.AxesSubplot at 0x175b290f0>"
      ]
     },
     "execution_count": 29,
     "metadata": {},
     "output_type": "execute_result"
    },
    {
     "data": {
      "image/png": "[encoded data removed]",
      "text/plain": [
       "<matplotlib.figure.Figure at 0x142a85470>"
      ]
     },
     "metadata": {},
     "output_type": "display_data"
    }
   ],
   "source": [
    "percent_high[['count_high', 'count_total', 'count_normal']].plot()"
   ]
  },
  {
   "cell_type": "code",
   "execution_count": 30,
   "metadata": {},
   "outputs": [
    {
     "data": {
      "text/plain": [
       "<matplotlib.axes._subplots.AxesSubplot at 0x191e284e0>"
      ]
     },
     "execution_count": 30,
     "metadata": {},
     "output_type": "execute_result"
    },
    {
     "data": {
      "image/png": "[encoded data removed]",
      "text/plain": [
       "<matplotlib.figure.Figure at 0x125ea86a0>"
      ]
     },
     "metadata": {},
     "output_type": "display_data"
    }
   ],
   "source": [
    "percent_high[['amount_high_pct', 'amount_normal_pct']].plot(ylim=(0,1))"
   ]
  },
  {
   "cell_type": "code",
   "execution_count": 31,
   "metadata": {},
   "outputs": [
    {
     "data": {
      "text/plain": [
       "<matplotlib.axes._subplots.AxesSubplot at 0x1712a2860>"
      ]
     },
     "execution_count": 31,
     "metadata": {},
     "output_type": "execute_result"
    },
    {
     "data": {
      "image/png": "[encoded data removed]",
      "text/plain": [
       "<matplotlib.figure.Figure at 0x191fe8fd0>"
      ]
     },
     "metadata": {},
     "output_type": "display_data"
    }
   ],
   "source": [
    "percent_high[['amount_high', 'amount_normal', 'amount_total']].plot()"
   ]
  },
  {
   "cell_type": "code",
   "execution_count": 52,
   "metadata": {},
   "outputs": [
    {
     "data": {
      "text/html": [
       "<div>\n",
       "<style>\n",
       "    .dataframe thead tr:only-child th {\n",
       "        text-align: right;\n",
       "    }\n",
       "\n",
       "    .dataframe thead th {\n",
       "        text-align: left;\n",
       "    }\n",
       "\n",
       "    .dataframe tbody tr th {\n",
       "        vertical-align: top;\n",
       "    }\n",
       "</style>\n",
       "<table border=\"1\" class=\"dataframe\">\n",
       "  <thead>\n",
       "    <tr style=\"text-align: right;\">\n",
       "      <th></th>\n",
       "      <th></th>\n",
       "      <th>loan_amount</th>\n",
       "    </tr>\n",
       "    <tr>\n",
       "      <th>high_priced</th>\n",
       "      <th>year</th>\n",
       "      <th></th>\n",
       "    </tr>\n",
       "  </thead>\n",
       "  <tbody>\n",
       "  </tbody>\n",
       "</table>\n",
       "<p>0 rows × 1 columns</p>\n",
       "</div>"
      ],
      "text/plain": [
       "Empty DataFrame\n",
       "Columns: [loan_amount]\n",
       "Index: []\n",
       "\n",
       "[0 rows x 1 columns]"
      ]
     },
     "execution_count": 52,
     "metadata": {},
     "output_type": "execute_result"
    }
   ],
   "source": [
    "\n",
    "amount_df = rs_df[(rs_df.loan_purpose=='3')&(rs_df.loan_amount>=50)][['year', 'high_priced', 'loan_amount']].groupby(['high_priced', 'year']).sum().copy()\n",
    "amount_df"
   ]
  },
  {
   "cell_type": "code",
   "execution_count": 53,
   "metadata": {},
   "outputs": [
    {
     "data": {
      "text/html": [
       "<div>\n",
       "<style>\n",
       "    .dataframe thead tr:only-child th {\n",
       "        text-align: right;\n",
       "    }\n",
       "\n",
       "    .dataframe thead th {\n",
       "        text-align: left;\n",
       "    }\n",
       "\n",
       "    .dataframe tbody tr th {\n",
       "        vertical-align: top;\n",
       "    }\n",
       "</style>\n",
       "<table border=\"1\" class=\"dataframe\">\n",
       "  <thead>\n",
       "    <tr style=\"text-align: right;\">\n",
       "      <th></th>\n",
       "      <th>year</th>\n",
       "      <th>rate_spread</th>\n",
       "      <th>lien_status</th>\n",
       "      <th>loan_amount</th>\n",
       "      <th>loan_purpose</th>\n",
       "      <th>hoepa</th>\n",
       "      <th>high_priced</th>\n",
       "    </tr>\n",
       "  </thead>\n",
       "  <tbody>\n",
       "  </tbody>\n",
       "</table>\n",
       "<p>0 rows × 7 columns</p>\n",
       "</div>"
      ],
      "text/plain": [
       "Empty DataFrame\n",
       "Columns: [year, rate_spread, lien_status, loan_amount, loan_purpose, hoepa, high_priced]\n",
       "Index: []\n",
       "\n",
       "[0 rows x 7 columns]"
      ]
     },
     "execution_count": 53,
     "metadata": {},
     "output_type": "execute_result"
    }
   ],
   "source": [
    "rs_df[(rs_df.loan_purpose=='3')]"
   ]
  },
  {
   "cell_type": "code",
   "execution_count": null,
   "metadata": {},
   "outputs": [],
   "source": []
  }
 ],
 "metadata": {
  "kernelspec": {
   "display_name": "Python 3",
   "language": "python",
   "name": "python3"
  },
  "language_info": {
   "codemirror_mode": {
    "name": "ipython",
    "version": 3
   },
   "file_extension": ".py",
   "mimetype": "text/x-python",
   "name": "python",
   "nbconvert_exporter": "python",
   "pygments_lexer": "ipython3",
   "version": "3.6.2"
  }
 },
 "nbformat": 4,
 "nbformat_minor": 2
}
